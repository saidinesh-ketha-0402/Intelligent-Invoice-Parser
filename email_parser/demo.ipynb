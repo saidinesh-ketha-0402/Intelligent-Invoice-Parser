{
 "cells": [
  {
   "cell_type": "markdown",
   "metadata": {},
   "source": [
    "# <center> Email Parser Demo </center>\n",
    "***"
   ]
  },
  {
   "cell_type": "code",
   "execution_count": null,
   "metadata": {},
   "outputs": [],
   "source": [
    "import os.path\n",
    "import base64\n",
    "import re\n",
    "import datetime, time\n",
    "from google.auth.transport.requests import Request\n",
    "from google.oauth2.credentials import Credentials\n",
    "from google_auth_oauthlib.flow import InstalledAppFlow\n",
    "from googleapiclient.discovery import build"
   ]
  },
  {
   "cell_type": "markdown",
   "metadata": {},
   "source": [
    "\n",
    "## <center> PART-I : EMAIL MONITORING </center>\n",
    "***\n",
    "### Set the scopes\n",
    "***"
   ]
  },
  {
   "cell_type": "code",
   "execution_count": null,
   "metadata": {},
   "outputs": [],
   "source": [
    "SCOPES = ['https://www.googleapis.com/auth/gmail.modify']"
   ]
  },
  {
   "cell_type": "markdown",
   "metadata": {},
   "source": [
    "### Step 1: Authenticate Gmail\n",
    "***"
   ]
  },
  {
   "cell_type": "code",
   "execution_count": null,
   "metadata": {},
   "outputs": [],
   "source": [
    "def authenticate_gmail():\n",
    "    creds = None\n",
    "    if os.path.exists('token.json'):\n",
    "        creds = Credentials.from_authorized_user_file('token.json', SCOPES)\n",
    "    if not creds or not creds.valid:\n",
    "        if creds and creds.expired and creds.refresh_token:\n",
    "            creds.refresh(Request())\n",
    "        else:\n",
    "            flow = InstalledAppFlow.from_client_secrets_file(\n",
    "                'credentials.json', SCOPES)\n",
    "            creds = flow.run_local_server(port=0)\n",
    "        with open('token.json', 'w') as token:\n",
    "            token.write(creds.to_json())\n",
    "    return build('gmail', 'v1', credentials=creds)"
   ]
  },
  {
   "cell_type": "markdown",
   "metadata": {},
   "source": [
    "### Validate File extension\n",
    "***"
   ]
  },
  {
   "cell_type": "code",
   "execution_count": null,
   "metadata": {},
   "outputs": [],
   "source": [
    "def is_valid_extension(file_path):\n",
    "    _, file_extension = os.path.splitext(file_path)\n",
    "    \n",
    "    if file_extension.lower() in ['.txt', '.pdf', '.jpg', '.jpeg', '.png', '.eml']:\n",
    "        return True\n",
    "    \n",
    "    else:\n",
    "        raise ValueError(f\"Unsupported file type: {file_extension}\")"
   ]
  },
  {
   "cell_type": "markdown",
   "metadata": {},
   "source": [
    "### Step 2 and 3: Inbox Monitoring & Searching for Emails with attachments\n",
    "***"
   ]
  },
  {
   "cell_type": "code",
   "execution_count": null,
   "metadata": {},
   "outputs": [],
   "source": [
    "def search_emails_with_attachments(service, user_id='me'):\n",
    "    \n",
    "    # Query if the polling interval is 1 hour.\n",
    "    # now = int(time.time())\n",
    "    # five_minutes_ago = now - 60*60\n",
    "    # query = f'in:inbox has:attachment after:{five_minutes_ago} before:{now}'\n",
    "    \n",
    "    # Query if the polling interval is 1 day.\n",
    "    query = 'in:inbox has:attachment newer_than:10d'\n",
    "    results = service.users().messages().list(userId=user_id, q=query).execute()\n",
    "    messages = results.get('messages', [])\n",
    "    if not messages:\n",
    "        print(\"No messages found.\")\n",
    "    else:\n",
    "        print(f\"Found {len(messages)} messages with attachments.\")\n",
    "        return messages"
   ]
  },
  {
   "cell_type": "markdown",
   "metadata": {},
   "source": [
    "### Step 4: Download Attachments\n",
    "***"
   ]
  },
  {
   "cell_type": "code",
   "execution_count": null,
   "metadata": {},
   "outputs": [],
   "source": [
    "def download_attachments(service, user_id, msg_id, store_dir):\n",
    "    message = service.users().messages().get(userId=user_id, id=msg_id).execute()\n",
    "    parts = message.get('payload').get('parts')\n",
    "    if parts:\n",
    "        for part in parts:\n",
    "            if part.get('filename') and is_valid_extension(part.get('filename')):\n",
    "                if 'data' in part['body']:\n",
    "                    data = part['body']['data']\n",
    "                else:\n",
    "                    att_id = part['body'].get('attachmentId')\n",
    "                    att = service.users().messages().attachments().get(userId=user_id, messageId=msg_id, id=att_id).execute()\n",
    "                    data = att['data']\n",
    "                file_data = base64.urlsafe_b64decode(data.encode('UTF-8'))\n",
    "                path = os.path.join(store_dir, part['filename'])\n",
    "                with open(path, 'wb') as f:\n",
    "                    f.write(file_data)\n",
    "                print(f\"Attachment {part['filename']} downloaded.\")"
   ]
  },
  {
   "cell_type": "code",
   "execution_count": null,
   "metadata": {},
   "outputs": [],
   "source": [
    "service = authenticate_gmail()\n",
    "messages = search_emails_with_attachments(service)\n",
    "\n",
    "store_dir = 'email_downloads'\n",
    "if not os.path.exists(store_dir):\n",
    "    os.makedirs(store_dir)\n",
    "\n",
    "if messages:\n",
    "    for msg in messages:\n",
    "        download_attachments(service, 'me', msg['id'], store_dir)"
   ]
  },
  {
   "cell_type": "markdown",
   "metadata": {},
   "source": [
    "## <center> PART-II : ATTACHMENT CLASSIFICATION </center>\n",
    "***\n",
    "### Step 5: Extract Attachment Content\n",
    "***"
   ]
  },
  {
   "cell_type": "code",
   "execution_count": null,
   "metadata": {},
   "outputs": [],
   "source": [
    "import os\n",
    "import PyPDF2\n",
    "import docx\n",
    "import mammoth\n",
    "import easyocr\n",
    "import email\n",
    "import pdfplumber\n",
    "import pymupdf\n",
    "from openai import AzureOpenAI\n",
    "from dotenv import load_dotenv\n",
    "\n",
    "from azure.cognitiveservices.vision.computervision import ComputerVisionClient\n",
    "from msrest.authentication import CognitiveServicesCredentials"
   ]
  },
  {
   "cell_type": "markdown",
   "metadata": {},
   "source": [
    "### For PDF files\n",
    "***"
   ]
  },
  {
   "cell_type": "code",
   "execution_count": null,
   "metadata": {},
   "outputs": [],
   "source": [
    "def read_pdf_pypdf2(file_path):\n",
    "    try:\n",
    "        with open(file_path, 'rb') as file:\n",
    "            reader = PyPDF2.PdfReader(file)\n",
    "            content = \"\"\n",
    "            for page_num in range(len(reader.pages)):\n",
    "                page = reader.pages[page_num]\n",
    "                content += page.extract_text()\n",
    "            return content\n",
    "    \n",
    "    except Exception as e:\n",
    "        print(f\"Error reading PDF: {e}\")\n",
    "        return \"\"\n",
    "\n",
    "def read_pdf_pdfPlumber(file_path):\n",
    "    try:\n",
    "        with pdfplumber.open(file_path) as pdf:\n",
    "            text = \"\"\n",
    "            for page in pdf.pages:\n",
    "                text += page.extract_text() + \"\\n\"\n",
    "        return text\n",
    "    except Exception as e:\n",
    "        print(f\"Failed to extract text from PDF: {e}\")\n",
    "        return \"\""
   ]
  },
  {
   "cell_type": "markdown",
   "metadata": {},
   "source": [
    "### For Image files\n",
    "***"
   ]
  },
  {
   "cell_type": "code",
   "execution_count": null,
   "metadata": {},
   "outputs": [],
   "source": [
    "def read_img_easyocr(file_path):\n",
    "    try:\n",
    "        reader = easyocr.Reader(['en'], verbose=False)\n",
    "        result = reader.readtext(file_path)\n",
    "        content = ' '.join([text[1] for text in result])\n",
    "        return content\n",
    "    \n",
    "    except Exception as e:\n",
    "        print(f\"Error reading Image: {e}\")\n",
    "        return \"\"\n",
    "\n",
    "def read_img_azure_ocr(file_path):\n",
    "    try:\n",
    "        content = ''\n",
    "        load_dotenv()\n",
    "        subscription_key = os.environ[\"VISION_KEY\"]\n",
    "        endpoint = os.environ[\"VISION_ENDPOINT\"]\n",
    "        computervision_client = ComputerVisionClient(endpoint, CognitiveServicesCredentials(subscription_key))\n",
    "        \n",
    "        with open(file_path, \"rb\") as image_stream:\n",
    "            ocr_result = computervision_client.recognize_printed_text_in_stream(image_stream)\n",
    "\n",
    "        for region in ocr_result.regions:\n",
    "            for line in region.lines:\n",
    "                line_text = \" \".join([word.text for word in line.words])\n",
    "                content += line_text + ' '\n",
    "        \n",
    "        return content\n",
    "\n",
    "    except Exception as e:\n",
    "        print(f\"Error reading Image: {e}\")\n",
    "        return \"\""
   ]
  },
  {
   "cell_type": "markdown",
   "metadata": {},
   "source": [
    "### For EML files\n",
    "***"
   ]
  },
  {
   "cell_type": "code",
   "execution_count": null,
   "metadata": {},
   "outputs": [],
   "source": [
    "def read_eml(file_path, output_dir='attachments/Positive Examples/eml_downloads/'):  \n",
    "    try:\n",
    "        attachments_content = dict()\n",
    "        with open(file_path, 'r') as file:\n",
    "            msg = email.message_from_file(file)\n",
    "            for part in msg.walk():\n",
    "                if part.get_content_maintype() == 'multipart':\n",
    "                    continue\n",
    "                if part.get('Content-Disposition') is None:\n",
    "                    continue\n",
    "\n",
    "                file_name = part.get_filename()\n",
    "                if file_name:\n",
    "                    filepath = os.path.join(output_dir, file_name)\n",
    "                    with open(filepath, 'wb') as f:\n",
    "                        f.write(part.get_payload(decode=True))\n",
    "                    # print(f\"Attachment {file_name} downloaded.\")\n",
    "                    content = read_document(output_dir + file_name)\n",
    "                    attachments_content[file_name] = content\n",
    "\n",
    "        return attachments_content\n",
    "    \n",
    "    except Exception as e:\n",
    "        print(f\"Error reading EML: {e}\")\n",
    "        return \"\""
   ]
  },
  {
   "cell_type": "markdown",
   "metadata": {},
   "source": [
    "### For scanned PDF files\n",
    "***"
   ]
  },
  {
   "cell_type": "code",
   "execution_count": null,
   "metadata": {},
   "outputs": [],
   "source": [
    "def read_pdf_as_image_easyocr(file_path, image_path='attachments/Positive Examples/images/sample.png'):\n",
    "    try:\n",
    "        # print(\"Reading PDF as image using Easy OCR...\")\n",
    "        content = ''\n",
    "        doc = pymupdf.open(file_path)\n",
    "        for page in doc:\n",
    "            pix = page.get_pixmap() \n",
    "            pix.save(image_path)\n",
    "            \n",
    "            reader = easyocr.Reader(['en'], verbose=False)\n",
    "            result = reader.readtext(image_path)\n",
    "            content = ' '.join([text[1] for text in result])\n",
    "            return content\n",
    "            \n",
    "    except Exception as e:\n",
    "        print(f\"Failed to extract text from PDF: {e}\")\n",
    "        return \"\"\n",
    "    \n",
    "def read_pdf_as_image_azureocr(file_path, image_path='attachments/Positive Examples/images/sample.png'):\n",
    "    print(\"Reading PDF as image using Azure OCR...\")\n",
    "    try:\n",
    "        content = ''\n",
    "        doc = pymupdf.open(file_path)\n",
    "        for page in doc:\n",
    "            pix = page.get_pixmap() \n",
    "            pix.save(image_path)\n",
    "            content += read_img_azure_ocr(image_path)\n",
    "        return content\n",
    "            \n",
    "    except Exception as e:\n",
    "        print(f\"Failed to extract text from PDF: {e}\")\n",
    "        return \"\""
   ]
  },
  {
   "cell_type": "code",
   "execution_count": null,
   "metadata": {},
   "outputs": [],
   "source": [
    "def read_document(file_path, flag = 0):\n",
    "    _, file_extension = os.path.splitext(file_path)\n",
    "    \n",
    "    if file_extension.lower() == '.pdf' :\n",
    "        content = read_pdf_pdfPlumber(file_path) if flag == 0 else read_pdf_pypdf2(file_path)\n",
    "        if content == \"\":\n",
    "            content = read_pdf_as_image_azureocr(file_path)\n",
    "        return content\n",
    "    \n",
    "    elif file_extension.lower() in ['.jpg', '.jpeg', '.png']:\n",
    "        return (read_img_azure_ocr(file_path) if flag == 0 else read_img_easyocr(file_path))\n",
    "    \n",
    "    elif file_extension.lower() == '.eml':\n",
    "        return read_eml(file_path)\n",
    "    else:\n",
    "        raise ValueError(f\"Unsupported file type: {file_extension}\")"
   ]
  },
  {
   "cell_type": "markdown",
   "metadata": {},
   "source": [
    "### 6. Invoice Classifier\n",
    "***"
   ]
  },
  {
   "cell_type": "code",
   "execution_count": null,
   "metadata": {},
   "outputs": [],
   "source": [
    "load_dotenv()\n",
    "\n",
    "GPT_KEY = os.getenv('GPT_KEY')\n",
    "GPT_ENDPOINT = os.getenv('GPT_ENDPOINT')\n",
    "GPT_VERSION = os.getenv('GPT_VERSION')\n",
    "GPT_DEPLOYMENT_NAME = os.getenv('GPT_DEPLOYMENT_NAME')\n",
    "\n",
    "client = AzureOpenAI(\n",
    "    api_key = GPT_KEY,\n",
    "    api_version = GPT_VERSION,\n",
    "    azure_endpoint = GPT_ENDPOINT\n",
    ")"
   ]
  },
  {
   "cell_type": "code",
   "execution_count": null,
   "metadata": {},
   "outputs": [],
   "source": [
    "def invoice_classifier(content):\n",
    "    query = f'''Does the below content indicate an Invoice statement ?\n",
    "            {content}\n",
    "            // Yes or No.'''\n",
    "\n",
    "    response = client.chat.completions.create(\n",
    "                        model = GPT_DEPLOYMENT_NAME,\n",
    "                        messages = [\n",
    "                            {\n",
    "                                \"role\": \"system\",\n",
    "                                \"content\": [\n",
    "                                    {\n",
    "                                    \"type\": \"text\",\n",
    "                                    \"text\": ''' You are an helpful AI assistant. You help users to decide whether the content provided by them represents an invoice or not. You can judge the content based on certain invoice-related keywords. A few of them include:\n",
    "                                    - Invoice Number\n",
    "                                    - Invoice Date\n",
    "                                    - Statement\n",
    "                                    - Total Due\n",
    "                                    - Due Date\n",
    "                                    - Bill To\n",
    "                                    - Sold to\n",
    "                                    - Ship To\n",
    "                                    - Customer\n",
    "                                    - Order Number\n",
    "                                    - Purchase Order (PO) Number\n",
    "                                    - Terms\n",
    "                                    - Line Item\n",
    "                                    - Quantity\n",
    "                                    - Unit Price\n",
    "                                    - Total\n",
    "                                    - Subtotal\n",
    "                                    - Tax\n",
    "                                    - Discount\n",
    "                                    - Shipping Cost\n",
    "                                    - Balance Due\n",
    "                                    - Amount Paid\n",
    "                                    - Remit To\n",
    "                                    - Description\n",
    "                                    - Net Price\n",
    "                                    - Contact Information\n",
    "                                    If you find a **good amount of keywords in the given content**, you can **return your verdict as Yes, else No**. Give your verdict in a simple Yes/No format.\n",
    "                                    '''\n",
    "                                    }\n",
    "                                ]\n",
    "                            },\n",
    "                            {\n",
    "                                \"role\" : \"user\",\n",
    "                                \"content\": [\n",
    "                                    {\n",
    "                                    \"type\": \"text\",\n",
    "                                    \"text\": f\"{query}\"\n",
    "                                    },\n",
    "                                ]\n",
    "                            },\n",
    "                        ],\n",
    "                        max_tokens = 100,\n",
    "                        temperature = 0,\n",
    "                        top_p = 0.95,\n",
    "                        seed=101\n",
    "                    )\n",
    "\n",
    "    return(response.choices[0].message.content)"
   ]
  },
  {
   "cell_type": "code",
   "execution_count": null,
   "metadata": {},
   "outputs": [],
   "source": [
    "for file in os.listdir(store_dir):\n",
    "    file_path = f'{store_dir}/{file}'\n",
    "    content = read_document(file_path)\n",
    "    isInvoice = invoice_classifier(content)\n",
    "    print(f\"The attachment {file} is a Invoice ?: {isInvoice}\")"
   ]
  }
 ],
 "metadata": {
  "language_info": {
   "name": "python"
  }
 },
 "nbformat": 4,
 "nbformat_minor": 2
}
