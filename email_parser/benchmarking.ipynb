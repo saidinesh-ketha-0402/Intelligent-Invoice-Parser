{
 "cells": [
  {
   "cell_type": "markdown",
   "metadata": {},
   "source": [
    "# <center> Benchmarking the Invoice Classification from email inbox </center>\n",
    "***"
   ]
  },
  {
   "cell_type": "code",
   "execution_count": 1,
   "metadata": {},
   "outputs": [],
   "source": [
    "import easyocr\n",
    "import email\n",
    "import os\n",
    "from openai import AzureOpenAI\n",
    "from dotenv import load_dotenv\n",
    "import PyPDF2\n",
    "import pdfplumber\n",
    "import pymupdf\n",
    "import base64\n",
    "from mimetypes import guess_type\n",
    "from azure.cognitiveservices.vision.computervision import ComputerVisionClient\n",
    "from msrest.authentication import CognitiveServicesCredentials"
   ]
  },
  {
   "cell_type": "markdown",
   "metadata": {},
   "source": [
    "\n",
    "### Initializing OpenAI client\n",
    "***"
   ]
  },
  {
   "cell_type": "code",
   "execution_count": 2,
   "metadata": {},
   "outputs": [],
   "source": [
    "load_dotenv()\n",
    "\n",
    "GPT_KEY = os.getenv('GPT_KEY')\n",
    "GPT_ENDPOINT = os.getenv('GPT_ENDPOINT')\n",
    "GPT_VERSION = os.getenv('GPT_VERSION')\n",
    "GPT_DEPLOYMENT_NAME = os.getenv('GPT_DEPLOYMENT_NAME')\n",
    "\n",
    "client = AzureOpenAI(\n",
    "    api_key = GPT_KEY,\n",
    "    api_version = GPT_VERSION,\n",
    "    azure_endpoint = GPT_ENDPOINT\n",
    ")"
   ]
  },
  {
   "cell_type": "code",
   "execution_count": 3,
   "metadata": {},
   "outputs": [],
   "source": [
    "def invoice_classifier(content):\n",
    "    query = f'''Does the below content indicate an Invoice statement ?\n",
    "            {content}\n",
    "            // Yes or No.'''\n",
    "\n",
    "    response = client.chat.completions.create(\n",
    "                        model = GPT_DEPLOYMENT_NAME,\n",
    "                        messages = [\n",
    "                            {\n",
    "                                \"role\": \"system\",\n",
    "                                \"content\": [\n",
    "                                    {\n",
    "                                    \"type\": \"text\",\n",
    "                                    \"text\": ''' You are an helpful AI assistant. You help users to decide whether the content provided by them represents an invoice or not. You can judge the content based on certain invoice-related keywords. A few of them include:\n",
    "                                    - Invoice Number\n",
    "                                    - Invoice Date\n",
    "                                    - Statement\n",
    "                                    - Total Due\n",
    "                                    - Due Date\n",
    "                                    - Bill To\n",
    "                                    - Sold to\n",
    "                                    - Ship To\n",
    "                                    - Customer\n",
    "                                    - Order Number\n",
    "                                    - Purchase Order (PO) Number\n",
    "                                    - Terms\n",
    "                                    - Line Item\n",
    "                                    - Quantity\n",
    "                                    - Unit Price\n",
    "                                    - Total\n",
    "                                    - Subtotal\n",
    "                                    - Tax\n",
    "                                    - Discount\n",
    "                                    - Shipping Cost\n",
    "                                    - Balance Due\n",
    "                                    - Amount Paid\n",
    "                                    - Remit To\n",
    "                                    - Description\n",
    "                                    - Net Price\n",
    "                                    - Contact Information\n",
    "                                    If you find a **good amount of keywords in the given content**, you can **return your verdict as Yes, else No**. Give your verdict in a simple Yes/No format.\n",
    "                                    '''\n",
    "                                    }\n",
    "                                ]\n",
    "                            },\n",
    "                            {\n",
    "                                \"role\" : \"user\",\n",
    "                                \"content\": [\n",
    "                                    {\n",
    "                                    \"type\": \"text\",\n",
    "                                    \"text\": f\"{query}\"\n",
    "                                    },\n",
    "                                ]\n",
    "                            },\n",
    "                        ],\n",
    "                        max_tokens = 100,\n",
    "                        temperature = 0,\n",
    "                        top_p = 0.95,\n",
    "                        seed=101\n",
    "                    )\n",
    "\n",
    "    return(response.choices[0].message.content)"
   ]
  },
  {
   "cell_type": "markdown",
   "metadata": {},
   "source": [
    "### Classify document type and its corresponding extarction method\n",
    "***"
   ]
  },
  {
   "cell_type": "code",
   "execution_count": null,
   "metadata": {},
   "outputs": [],
   "source": [
    "def read_document(file_path, flag = 0):\n",
    "    _, file_extension = os.path.splitext(file_path)\n",
    "    \n",
    "    if file_extension.lower() == '.txt':\n",
    "        return read_txt(file_path)\n",
    "    elif file_extension.lower() == '.pdf' :\n",
    "        return (read_pdf_pypdf2(file_path) if flag == 0 else read_pdf_pdfPlumber(file_path))\n",
    "    elif file_extension.lower() == '.docx':\n",
    "        return read_docx(file_path)\n",
    "    elif file_extension.lower() == '.doc':\n",
    "        return read_doc(file_path)\n",
    "    elif file_extension.lower() in ['.jpg', '.jpeg', '.png']:\n",
    "        return (read_img_azure_ocr(file_path) if flag == 0 else read_img(file_path))\n",
    "    elif file_extension.lower() == '.eml':\n",
    "        return read_eml(file_path)\n",
    "    else:\n",
    "        raise ValueError(f\"Unsupported file type: {file_extension}\")"
   ]
  },
  {
   "cell_type": "markdown",
   "metadata": {},
   "source": [
    "### To create a dictionary of files for monitoring their consistency"
   ]
  },
  {
   "cell_type": "code",
   "execution_count": null,
   "metadata": {},
   "outputs": [],
   "source": [
    "def get_files_dict(folder_path):\n",
    "    # Get the list of files in the specified folder\n",
    "    files_list = os.listdir(folder_path)\n",
    "    \n",
    "    # Create a dictionary with filenames as keys and values initialized to 0\n",
    "    files_dict = {file_name: 0 for file_name in files_list if os.path.isfile(os.path.join(folder_path, file_name))}\n",
    "    \n",
    "    return files_dict"
   ]
  },
  {
   "cell_type": "markdown",
   "metadata": {},
   "source": [
    "### PDF information extraction using PyPDF2\n",
    "***"
   ]
  },
  {
   "cell_type": "code",
   "execution_count": null,
   "metadata": {},
   "outputs": [],
   "source": [
    "def read_pdf_pypdf2(file_path):\n",
    "    try:\n",
    "        with open(file_path, 'rb') as file:\n",
    "            reader = PyPDF2.PdfReader(file)\n",
    "            content = \"\"\n",
    "            for page_num in range(len(reader.pages)):\n",
    "                page = reader.pages[page_num]\n",
    "                content += page.extract_text()\n",
    "        return content\n",
    "    \n",
    "    except Exception as e:\n",
    "        print(f\"Error reading PDF: {e}\")\n",
    "        return \"\""
   ]
  },
  {
   "cell_type": "markdown",
   "metadata": {},
   "source": [
    "Positive Examples\n",
    "***"
   ]
  },
  {
   "cell_type": "code",
   "execution_count": null,
   "metadata": {},
   "outputs": [],
   "source": [
    "tpr = 0\n",
    "for pdf in os.listdir('attachments/Positive Examples/pdfs/'):\n",
    "    file_path = f'attachments/Positive Examples/pdfs/{pdf}'\n",
    "    content = read_pdf_pypdf2(file_path)\n",
    "    isInvoice = invoice_classifier(content)\n",
    "    tpr += 1 if \"Yes\" in isInvoice else 0\n",
    "    print(f\"{pdf} is Invoice: {isInvoice}\")\n",
    "\n",
    "print(\"-------------------------------------------------------------------------------------------------\")\n",
    "print(f\"\\n\\nTrue Positive Rate: {tpr}/{len(os.listdir('attachments/Positive Examples/pdfs/'))}\")"
   ]
  },
  {
   "cell_type": "markdown",
   "metadata": {},
   "source": [
    "Negative Examples\n",
    "***"
   ]
  },
  {
   "cell_type": "code",
   "execution_count": null,
   "metadata": {},
   "outputs": [],
   "source": [
    "tpr = 0\n",
    "for pdf in os.listdir('attachments/Negative Examples/pdfs/'):\n",
    "    file_path = f'attachments/Negative Examples/pdfs/{pdf}'\n",
    "    content = read_pdf_pypdf2(file_path)\n",
    "    isInvoice = invoice_classifier(content)\n",
    "    tpr += 1 if \"Yes\" in isInvoice else 0\n",
    "    print(f\"{pdf} is Invoice: {isInvoice}\")\n",
    "\n",
    "print(\"-------------------------------------------------------------------------------------------------\")\n",
    "print(f\"\\n\\nTrue Positive Rate: {tpr}/{len(os.listdir('attachments/Negative Examples/pdfs/'))}\")"
   ]
  },
  {
   "cell_type": "markdown",
   "metadata": {},
   "source": [
    "Iterative testing - Consistency check\n",
    "***\n"
   ]
  },
  {
   "cell_type": "code",
   "execution_count": null,
   "metadata": {},
   "outputs": [],
   "source": [
    "test_dict = get_files_dict('attachments/Positive Examples/pdfs/')\n",
    "iterations = 10\n",
    "\n",
    "for i in range(iterations):\n",
    "    tpr = 0\n",
    "    for pdf in os.listdir('attachments/Positive Examples/pdfs/'):\n",
    "        file_path = f'attachments/Positive Examples/pdfs/{pdf}'\n",
    "        content = read_pdf_pypdf2(file_path)\n",
    "        isInvoice = invoice_classifier(content)\n",
    "        tpr += 1 if \"Yes\" in isInvoice else 0\n",
    "        test_dict[pdf] += 1 if \"Yes\" in isInvoice else 0    \n",
    "    \n",
    "    print(f\"Iteration-{i+1} -> True Positive Rate: {tpr}/{len(os.listdir('attachments/Positive Examples/pdfs/'))}\")\n",
    "    print(\"-------------------------------------------------------------------------------------------------\\n\")\n",
    "\n",
    "for key, value in test_dict.items():\n",
    "    print(f\"{key} -> {value}/{iterations}\")"
   ]
  },
  {
   "cell_type": "markdown",
   "metadata": {},
   "source": [
    "### PDF information extraction using PDF Plumber\n",
    "***\n"
   ]
  },
  {
   "cell_type": "code",
   "execution_count": null,
   "metadata": {},
   "outputs": [],
   "source": [
    "def read_pdf_pdfPlumber(file_path):\n",
    "    try:\n",
    "        with pdfplumber.open(file_path) as pdf:\n",
    "            text = \"\"\n",
    "            for page in pdf.pages:\n",
    "                text += page.extract_text() + \"\\n\"\n",
    "        return text\n",
    "    except Exception as e:\n",
    "        print(f\"Failed to extract text from PDF: {e}\")\n",
    "        return \"\""
   ]
  },
  {
   "cell_type": "markdown",
   "metadata": {},
   "source": [
    "\n",
    "Positive Examples\n",
    "***"
   ]
  },
  {
   "cell_type": "code",
   "execution_count": null,
   "metadata": {},
   "outputs": [],
   "source": [
    "tpr = 0\n",
    "for pdf in os.listdir('attachments/Positive Examples/pdfs/'):\n",
    "    file_path = f'attachments/Positive Examples/pdfs/{pdf}'\n",
    "    content = read_pdf_pdfPlumber(file_path)\n",
    "    isInvoice = invoice_classifier(content)\n",
    "    tpr += 1 if \"Yes\" in isInvoice else 0\n",
    "    print(f\"{pdf} is Invoice: {isInvoice}\")\n",
    "\n",
    "print(\"-------------------------------------------------------------------------------------------------\")\n",
    "print(f\"\\n\\nTrue Positive Rate: {tpr}/{len(os.listdir('attachments/Positive Examples/pdfs/'))}\")"
   ]
  },
  {
   "cell_type": "markdown",
   "metadata": {},
   "source": [
    "Negative Examples\n",
    "***\n"
   ]
  },
  {
   "cell_type": "code",
   "execution_count": null,
   "metadata": {},
   "outputs": [],
   "source": [
    "tpr = 0\n",
    "for pdf in os.listdir('attachments/Negative Examples/pdfs/'):\n",
    "    file_path = f'attachments/Negative Examples/pdfs/{pdf}'\n",
    "    content = read_pdf_pdfPlumber(file_path)\n",
    "    isInvoice = invoice_classifier(content)\n",
    "    tpr += 1 if \"Yes\" in isInvoice else 0\n",
    "    print(f\"{pdf} is Invoice: {isInvoice}\")\n",
    "\n",
    "print(\"-------------------------------------------------------------------------------------------------\")\n",
    "print(f\"\\n\\nTrue Positive Rate: {tpr}/{len(os.listdir('attachments/Negative Examples/pdfs/'))}\")"
   ]
  },
  {
   "cell_type": "markdown",
   "metadata": {},
   "source": [
    "Iterative testing - Consistency check\n",
    "***"
   ]
  },
  {
   "cell_type": "code",
   "execution_count": null,
   "metadata": {},
   "outputs": [],
   "source": [
    "test_dict = get_files_dict('attachments/Positive Examples/pdfs/')\n",
    "iterations = 10\n",
    "\n",
    "for i in range(iterations):\n",
    "    tpr = 0\n",
    "    for pdf in os.listdir('attachments/Positive Examples/pdfs/'):\n",
    "        file_path = f'attachments/Positive Examples/pdfs/{pdf}'\n",
    "        content = read_pdf_pdfPlumber(file_path)\n",
    "        isInvoice = invoice_classifier(content)\n",
    "        tpr += 1 if \"Yes\" in isInvoice else 0\n",
    "        test_dict[pdf] += 1 if \"Yes\" in isInvoice else 0 \n",
    "\n",
    "    print(f\"Iteration-{i+1} -> True Positive Rate: {tpr}/{len(os.listdir('attachments/Positive Examples/pdfs/'))}\")\n",
    "    print(\"-------------------------------------------------------------------------------------------------\\n\")\n",
    "\n",
    "for key, value in test_dict.items():\n",
    "    print(f\"{key} -> {value}/{iterations}\")"
   ]
  },
  {
   "cell_type": "markdown",
   "metadata": {},
   "source": [
    "### PDF information extraction using PDF Plumber + EasyOCR\n",
    "***"
   ]
  },
  {
   "cell_type": "code",
   "execution_count": null,
   "metadata": {},
   "outputs": [],
   "source": [
    "def read_pdf_as_image_easyocr(file_path, image_path='attachments/Positive Examples/images/sample.png'):\n",
    "    try:\n",
    "        # print(\"Reading PDF as image using Easy OCR...\")\n",
    "        content = ''\n",
    "        doc = pymupdf.open(file_path)\n",
    "        for page in doc:\n",
    "            pix = page.get_pixmap() \n",
    "            pix.save(image_path)\n",
    "            \n",
    "            reader = easyocr.Reader(['en'], verbose=False)\n",
    "            result = reader.readtext(image_path)\n",
    "            content = ' '.join([text[1] for text in result])\n",
    "            return content\n",
    "            \n",
    "    except Exception as e:\n",
    "        print(f\"Failed to extract text from PDF: {e}\")\n",
    "        return \"\""
   ]
  },
  {
   "cell_type": "code",
   "execution_count": null,
   "metadata": {},
   "outputs": [],
   "source": [
    "tpr = 0\n",
    "for pdf in os.listdir('attachments/Positive Examples/pdfs/'):\n",
    "    file_path = f'attachments/Positive Examples/pdfs/{pdf}'\n",
    "    content = read_pdf_pdfPlumber(file_path)\n",
    "    isInvoice = invoice_classifier(content)\n",
    "    \n",
    "    if \"No\" in isInvoice:\n",
    "        content = read_pdf_as_image_easyocr(file_path)\n",
    "        isInvoice = invoice_classifier(content)\n",
    "        \n",
    "    tpr += 1 if \"Yes\" in isInvoice else 0\n",
    "    print(f\"{pdf} is Invoice: {isInvoice}\")\n",
    "\n",
    "print(\"-------------------------------------------------------------------------------------------------\")\n",
    "print(f\"\\n\\nTrue Positive Rate: {tpr}/{len(os.listdir('attachments/Positive Examples/pdfs/'))}\")"
   ]
  },
  {
   "cell_type": "markdown",
   "metadata": {},
   "source": [
    "Iterative testing - Consistency check\n",
    "***"
   ]
  },
  {
   "cell_type": "code",
   "execution_count": null,
   "metadata": {},
   "outputs": [],
   "source": [
    "test_dict = get_files_dict('attachments/Positive Examples/pdfs/')\n",
    "iterations = 10\n",
    "\n",
    "for i in range(iterations):\n",
    "    tpr = 0\n",
    "    for pdf in os.listdir('attachments/Positive Examples/pdfs/'):\n",
    "        file_path = f'attachments/Positive Examples/pdfs/{pdf}'\n",
    "        content = read_pdf_pdfPlumber(file_path)\n",
    "        isInvoice = invoice_classifier(content)\n",
    "        \n",
    "        if \"No\" in isInvoice:\n",
    "            content = read_pdf_as_image_easyocr(file_path)\n",
    "            isInvoice = invoice_classifier(content)\n",
    "            \n",
    "        tpr += 1 if \"Yes\" in isInvoice else 0\n",
    "        test_dict[pdf] += 1 if \"Yes\" in isInvoice else 0\n",
    "        \n",
    "    print(f\"Iteration-{i+1} -> True Positive Rate: {tpr}/{len(os.listdir('attachments/Positive Examples/pdfs/'))}\")\n",
    "    print(\"-------------------------------------------------------------------------------------------------\\n\")\n",
    "\n",
    "for key, value in test_dict.items():\n",
    "    print(f\"{key} -> {value}/{iterations}\")"
   ]
  },
  {
   "cell_type": "markdown",
   "metadata": {},
   "source": [
    "### PDF information extraction from EML using 'email' package\n",
    "***\n"
   ]
  },
  {
   "cell_type": "code",
   "execution_count": null,
   "metadata": {},
   "outputs": [],
   "source": [
    "def read_eml(file_path, output_dir='attachments/Positive Examples/eml_downloads/'):  \n",
    "    try:\n",
    "        attachments_content = dict()\n",
    "        with open(file_path, 'r') as file:\n",
    "            msg = email.message_from_file(file)\n",
    "            for part in msg.walk():\n",
    "                if part.get_content_maintype() == 'multipart':\n",
    "                    continue\n",
    "                if part.get('Content-Disposition') is None:\n",
    "                    continue\n",
    "\n",
    "                file_name = part.get_filename()\n",
    "                if file_name:\n",
    "                    filepath = os.path.join(output_dir, file_name)\n",
    "                    with open(filepath, 'wb') as f:\n",
    "                        f.write(part.get_payload(decode=True))\n",
    "                    # print(f\"Attachment {file_name} downloaded.\")\n",
    "                    content = read_document(output_dir + file_name)\n",
    "                    attachments_content[file_name] = content\n",
    "\n",
    "        return attachments_content\n",
    "    \n",
    "    except Exception as e:\n",
    "        print(f\"Error reading EML: {e}\")\n",
    "        return \"\""
   ]
  },
  {
   "cell_type": "code",
   "execution_count": null,
   "metadata": {},
   "outputs": [],
   "source": [
    "tpr = 0\n",
    "for eml in os.listdir('attachments/Positive Examples/emls/'):\n",
    "    file_path = f'attachments/Positive Examples/emls/{eml}'\n",
    "    attachments_content = read_eml(file_path)\n",
    "    for content in attachments_content:\n",
    "        isInvoice = invoice_classifier(attachments_content[content])\n",
    "        tpr += 1 if \"Yes\" in isInvoice else 0\n",
    "        print(f\"{content} is Invoice: {isInvoice}\\n\")\n",
    "\n",
    "print(\"-------------------------------------------------------------------------------------------------\")\n",
    "print(f\"\\n\\nTrue Positive Rate: {tpr}/{len(os.listdir('attachments/Positive Examples/emls/'))}\")"
   ]
  },
  {
   "cell_type": "markdown",
   "metadata": {},
   "source": [
    " \n",
    "Iterative testing - Consistency check\n",
    "***"
   ]
  },
  {
   "cell_type": "code",
   "execution_count": null,
   "metadata": {},
   "outputs": [],
   "source": [
    "test_dict = get_files_dict('attachments/Positive Examples/emls/')\n",
    "iterations = 10\n",
    "\n",
    "for i in range(iterations):\n",
    "    for eml in os.listdir('attachments/Positive Examples/emls/'):\n",
    "        file_path = f'attachments/Positive Examples/emls/{eml}'\n",
    "        attachments_content = read_eml(file_path)\n",
    "        pr = 0\n",
    "        for content in attachments_content:\n",
    "            isInvoice = invoice_classifier(attachments_content[content])\n",
    "            pr += 1 if \"Yes\" in isInvoice else 0\n",
    "            \n",
    "        test_dict[eml] += 1 if len(attachments_content.keys()) == pr else 0 \n",
    "                \n",
    "    print(f\"Iteration-{i+1} -> True Positive Rate: {(int)(sum(test_dict.values())/(i+1))}/{len(os.listdir('attachments/Positive Examples/emls/'))}\")\n",
    "    print(\"-------------------------------------------------------------------------------------------------\\n\")\n",
    "\n",
    "for key, value in test_dict.items():\n",
    "    print(f\"{key} -> {value}/{iterations}\")"
   ]
  },
  {
   "cell_type": "markdown",
   "metadata": {},
   "source": [
    "### Information extraction from image using 'EasyOCR' package\n",
    "***"
   ]
  },
  {
   "cell_type": "code",
   "execution_count": null,
   "metadata": {},
   "outputs": [],
   "source": [
    "def read_img_easyocr(file_path):\n",
    "    try:\n",
    "        reader = easyocr.Reader(['en'], verbose=False)\n",
    "        result = reader.readtext(file_path)\n",
    "        content = ' '.join([text[1] for text in result])\n",
    "        return content\n",
    "    \n",
    "    except Exception as e:\n",
    "        print(f\"Error reading Image: {e}\")\n",
    "        return \"\""
   ]
  },
  {
   "cell_type": "markdown",
   "metadata": {},
   "source": [
    "Positive Examples\n",
    "***"
   ]
  },
  {
   "cell_type": "code",
   "execution_count": null,
   "metadata": {},
   "outputs": [],
   "source": [
    "tpr = 0\n",
    "for img in os.listdir('attachments/Positive Examples/images/'):\n",
    "    file_path = f'attachments/Positive Examples/images/{img}'\n",
    "    content = read_img_easyocr(file_path)\n",
    "    isInvoice = invoice_classifier(content)\n",
    "    tpr += 1 if \"Yes\" in isInvoice else 0\n",
    "    print(f\"{img} is Invoice: {isInvoice}\")\n",
    "\n",
    "print(\"-------------------------------------------------------------------------------------------------\")\n",
    "print(f\"\\n\\nTrue Positive Rate: {tpr}/{len(os.listdir('attachments/Positive Examples/images/'))}\")"
   ]
  },
  {
   "cell_type": "code",
   "execution_count": null,
   "metadata": {},
   "outputs": [],
   "source": [
    "tpr = 0\n",
    "for img in os.listdir('attachments/Negative Examples/images/')[:3]:\n",
    "    file_path = f'attachments/Negative Examples/images/{img}'\n",
    "    content = read_img_easyocr(file_path)\n",
    "    isInvoice = invoice_classifier(content)\n",
    "    tpr += 1 if \"Yes\" in isInvoice else 0\n",
    "    print(f\"{img} is Invoice: {isInvoice}\")\n",
    "\n",
    "print(\"-------------------------------------------------------------------------------------------------\")\n",
    "print(f\"\\n\\nTrue Positive Rate: {tpr}/{len(os.listdir('attachments/Negative Examples/images/'))}\")"
   ]
  },
  {
   "cell_type": "markdown",
   "metadata": {},
   "source": [
    "    \n",
    "Iterative testing - Consistency check\n",
    "***"
   ]
  },
  {
   "cell_type": "code",
   "execution_count": null,
   "metadata": {},
   "outputs": [],
   "source": [
    "test_dict = get_files_dict('attachments/Positive Examples/images/')\n",
    "iterations = 10\n",
    "\n",
    "for i in range(iterations):\n",
    "    tpr = 0\n",
    "    for img in os.listdir('attachments/Positive Examples/images/'):\n",
    "        file_path = f'attachments/Positive Examples/images/{img}'\n",
    "        content = read_img_easyocr(file_path)\n",
    "        isInvoice = invoice_classifier(content)\n",
    "        tpr += 1 if \"Yes\" in isInvoice else 0\n",
    "        test_dict[img] += 1 if \"Yes\" in isInvoice else 0\n",
    "\n",
    "    print(f\"Iteration-{i+1} -> True Positive Rate: {tpr}/{len(os.listdir('attachments/Positive Examples/images/'))}\")\n",
    "    print(\"-------------------------------------------------------------------------------------------------\\n\")\n",
    "\n",
    "for key, value in test_dict.items():\n",
    "    print(f\"{key} -> {value}/{iterations}\")"
   ]
  },
  {
   "cell_type": "markdown",
   "metadata": {},
   "source": [
    "### Information extraction from Image using 'Azure OCR' package\n",
    "***"
   ]
  },
  {
   "cell_type": "code",
   "execution_count": null,
   "metadata": {},
   "outputs": [],
   "source": [
    "def read_img_azure_ocr(file_path):\n",
    "    try:\n",
    "        content = ''\n",
    "        load_dotenv()\n",
    "        subscription_key = os.environ[\"VISION_KEY\"]\n",
    "        endpoint = os.environ[\"VISION_ENDPOINT\"]\n",
    "        computervision_client = ComputerVisionClient(endpoint, CognitiveServicesCredentials(subscription_key))\n",
    "        \n",
    "        with open(file_path, \"rb\") as image_stream:\n",
    "            ocr_result = computervision_client.recognize_printed_text_in_stream(image_stream)\n",
    "\n",
    "        for region in ocr_result.regions:\n",
    "            for line in region.lines:\n",
    "                line_text = \" \".join([word.text for word in line.words])\n",
    "                content += line_text + ' '\n",
    "        \n",
    "        return content\n",
    "\n",
    "    except Exception as e:\n",
    "        print(f\"Error reading Image: {e}\")\n",
    "        return \"\""
   ]
  },
  {
   "cell_type": "markdown",
   "metadata": {},
   "source": [
    "Positive Examples\n",
    "***"
   ]
  },
  {
   "cell_type": "code",
   "execution_count": null,
   "metadata": {},
   "outputs": [],
   "source": [
    "tpr = 0\n",
    "for img in os.listdir('attachments/Positive Examples/images/')[:20]:\n",
    "    file_path = f'attachments/Positive Examples/images/{img}'\n",
    "    content = read_img_azure_ocr(file_path)\n",
    "    isInvoice = invoice_classifier(content)\n",
    "    tpr += 1 if \"Yes\" in isInvoice else 0\n",
    "    print(f\"{img} is Invoice: {isInvoice}\")\n",
    "\n",
    "print(\"-------------------------------------------------------------------------------------------------\")\n",
    "print(f\"\\n\\nTrue Positive Rate: {tpr}/{len(os.listdir('attachments/Positive Examples/images/'))}\")"
   ]
  },
  {
   "cell_type": "markdown",
   "metadata": {},
   "source": [
    "Negative Examples\n",
    "***"
   ]
  },
  {
   "cell_type": "code",
   "execution_count": null,
   "metadata": {},
   "outputs": [],
   "source": [
    "tpr = 0\n",
    "for img in os.listdir('attachments/Negative Examples/images/'):\n",
    "    file_path = f'attachments/Negative Examples/images/{img}'\n",
    "    content = read_img_azure_ocr(file_path)\n",
    "    isInvoice = invoice_classifier(content)\n",
    "    tpr += 1 if \"Yes\" in isInvoice else 0\n",
    "    print(f\"{img} is Invoice: {isInvoice}\")\n",
    "\n",
    "print(\"-------------------------------------------------------------------------------------------------\")\n",
    "print(f\"\\n\\nTrue Positive Rate: {tpr}/{len(os.listdir('attachments/Negative Examples/images/'))}\")"
   ]
  },
  {
   "cell_type": "markdown",
   "metadata": {},
   "source": [
    "### PDF information extraction using PDF Plumber + Azure OCR\n",
    "***\n"
   ]
  },
  {
   "cell_type": "code",
   "execution_count": null,
   "metadata": {},
   "outputs": [],
   "source": [
    "def read_pdf_as_image_azureocr(file_path, image_path='attachments/Positive Examples/images/sample.png'):\n",
    "    print(\"Reading PDF as image using Azure OCR...\")\n",
    "    try:\n",
    "        content = ''\n",
    "        doc = pymupdf.open(file_path)\n",
    "        for page in doc:\n",
    "            pix = page.get_pixmap() \n",
    "            pix.save(image_path)\n",
    "            content += read_img_azure_ocr(image_path)\n",
    "        return content\n",
    "            \n",
    "    except Exception as e:\n",
    "        print(f\"Failed to extract text from PDF: {e}\")\n",
    "        return \"\""
   ]
  },
  {
   "cell_type": "code",
   "execution_count": null,
   "metadata": {},
   "outputs": [],
   "source": [
    "tpr = 0\n",
    "for pdf in os.listdir('attachments/Positive Examples/pdfs/')[0:20]:\n",
    "    file_path = f'attachments/Positive Examples/pdfs/{pdf}'\n",
    "    content = read_pdf_pdfPlumber(file_path)\n",
    "    isInvoice = invoice_classifier(content)\n",
    "    \n",
    "    if \"No\" in isInvoice:\n",
    "        content = read_pdf_as_image_azureocr(file_path)\n",
    "        isInvoice = invoice_classifier(content)\n",
    "        \n",
    "    tpr += 1 if \"Yes\" in isInvoice else 0\n",
    "    print(f\"{pdf} is Invoice: {isInvoice}\")\n",
    "\n",
    "print(\"-------------------------------------------------------------------------------------------------\")\n",
    "print(f\"\\n\\nTrue Positive Rate: {tpr}/{len(os.listdir('attachments/Positive Examples/pdfs/'))}\")"
   ]
  },
  {
   "cell_type": "markdown",
   "metadata": {},
   "source": [
    "### Information extraction from Image using GPT-4o\n",
    "***"
   ]
  },
  {
   "cell_type": "code",
   "execution_count": 4,
   "metadata": {},
   "outputs": [],
   "source": [
    "def local_image_to_data_url(image_path):\n",
    "    mime_type, _ = guess_type(image_path)\n",
    "    if mime_type is None:\n",
    "        mime_type = 'application/octet-stream'\n",
    "\n",
    "    with open(image_path, \"rb\") as image_file:\n",
    "        base64_encoded_data = base64.b64encode(image_file.read()).decode('utf-8')\n",
    "\n",
    "    return f\"data:{mime_type};base64,{base64_encoded_data}\""
   ]
  },
  {
   "cell_type": "code",
   "execution_count": 5,
   "metadata": {},
   "outputs": [],
   "source": [
    "def read_img_gpt_4o(image_url):\n",
    "        query = \"Extract the text from the image.\"\n",
    "        response = client.chat.completions.create(\n",
    "                            model = os.getenv('GPT_DEPLOYMENT_NAME'),\n",
    "                            messages = [\n",
    "                                {\n",
    "                                    \"role\": \"system\",\n",
    "                                    \"content\": [\n",
    "                                        {\n",
    "                                        \"type\": \"text\",\n",
    "                                        \"text\": ''' You are an helpful AI assistant and your job is to extract the text in the image and provide it to the user. You can use the image to text conversion techniques to extract the text. Once you have extracted the text, you can provide it to the user. Just output the extracted text and nothing else.'''\n",
    "                                        }\n",
    "                                    ]\n",
    "                                },\n",
    "                                {\n",
    "                                    \"role\" : \"user\",\n",
    "                                    \"content\": [\n",
    "                                        {\n",
    "                                            \"type\": \"text\",\n",
    "                                            \"text\": f\"{query}\"\n",
    "                                        },\n",
    "                                        {\n",
    "                                            \"type\": \"image_url\",\n",
    "                                            \"image_url\": {\n",
    "                                                \"url\" : f\"{image_url}\"\n",
    "                                            }\n",
    "                                        }\n",
    "                                        \n",
    "                                    ]\n",
    "                                },\n",
    "                            ],\n",
    "                            max_tokens = 2000,\n",
    "                            temperature = 0,\n",
    "                            top_p = 1\n",
    "                        )\n",
    "\n",
    "        return response.choices[0].message.content"
   ]
  },
  {
   "cell_type": "markdown",
   "metadata": {},
   "source": [
    "Positive Examples\n",
    "***"
   ]
  },
  {
   "cell_type": "code",
   "execution_count": 7,
   "metadata": {},
   "outputs": [
    {
     "name": "stdout",
     "output_type": "stream",
     "text": [
      "1020623.png is Invoice: Yes\n",
      "20240627145459374.png is Invoice: Yes\n",
      "24100044779.png is Invoice: Yes\n",
      "33377.png is Invoice: Yes\n",
      "721141.png is Invoice: Yes\n",
      "INSU-47699_2024_6_28_22_36_15.png is Invoice: Yes\n",
      "Invoice-291870.5-1.pdf.png is Invoice: Yes\n",
      "Invoice_INV484574.png is Invoice: Yes\n",
      "INV_0052120528.png is Invoice: Yes\n",
      "Inv_96116_from_Wilmanco_Inc._8372.png is Invoice: Yes\n",
      "sample.png is Invoice: Yes\n",
      "Seco_Invoice_0000475386.png is Invoice: Yes\n",
      "Statement_1759_from_Green_Circuits_Inc.pdf.png is Invoice: Yes\n",
      "TRIMBLE 290340.png is Invoice: Yes\n"
     ]
    }
   ],
   "source": [
    "image_directory = \"attachments/Positive Examples/images/\"\n",
    "\n",
    "data_urls = []\n",
    "\n",
    "for img in os.listdir(image_directory):\n",
    "    image_path = image_directory + img\n",
    "    image_url = local_image_to_data_url(image_path)\n",
    "    content = read_img_gpt_4o(image_url)\n",
    "    isInvoice = invoice_classifier(content)\n",
    "    print(f\"{img} is Invoice: {isInvoice}\")"
   ]
  },
  {
   "cell_type": "markdown",
   "metadata": {},
   "source": [
    "Negative Examples\n",
    "***"
   ]
  },
  {
   "cell_type": "code",
   "execution_count": 8,
   "metadata": {},
   "outputs": [
    {
     "name": "stdout",
     "output_type": "stream",
     "text": [
      "1.jpg is Invoice: No\n",
      "2.png is Invoice: No\n"
     ]
    }
   ],
   "source": [
    "image_directory = \"attachments/Negative Examples/images/\"\n",
    "\n",
    "data_urls = []\n",
    "\n",
    "for img in os.listdir(image_directory):\n",
    "    image_path = image_directory + img\n",
    "    image_url = local_image_to_data_url(image_path)\n",
    "    content = read_img_gpt_4o(image_url)\n",
    "    isInvoice = invoice_classifier(content)\n",
    "    print(f\"{img} is Invoice: {isInvoice}\")"
   ]
  },
  {
   "cell_type": "markdown",
   "metadata": {},
   "source": [
    "### Vendor/Supplier Name Extraction\n",
    "***"
   ]
  },
  {
   "cell_type": "code",
   "execution_count": null,
   "metadata": {},
   "outputs": [],
   "source": [
    "def extract_supplier_name(content):\n",
    "    query = f'''Extract the vendor/supplier name from the below invoice content:\n",
    "            {content}'''\n",
    "\n",
    "    response = client.chat.completions.create(\n",
    "                        model = GPT_DEPLOYMENT_NAME,\n",
    "                        messages = [\n",
    "                            {\n",
    "                                \"role\": \"system\",\n",
    "                                \"content\": [\n",
    "                                    {\n",
    "                                    \"type\": \"text\",\n",
    "                                    \"text\": ''' You are an helpful AI assistant. You help users to extract the vendor/supplier name from the given invoice content. The vendor/supplier name is usually found in the:\n",
    "                                    - ** Remit To ** section of the invoice\n",
    "                                    - ** Header ** of the invoice\n",
    "                                    of the invoice. It is the name of the company or individual that is providing the goods or services. It is usually followed by the vendor/supplier address. You should extract the vendor/supplier name by looking at the first line of Remit address. If the vendor/supplier name is not present in the content, you can return a message saying that the vendor/supplier name is not found.\n",
    "                                    ** Just return the name of the vendor/supplier and nothing else. **\n",
    "                                    '''\n",
    "                                    }\n",
    "                                ]\n",
    "                            },\n",
    "                            {\n",
    "                                \"role\" : \"user\",\n",
    "                                \"content\": [\n",
    "                                    {\n",
    "                                    \"type\": \"text\",\n",
    "                                    \"text\": f\"{query}\"\n",
    "                                    },\n",
    "                                ]\n",
    "                            },\n",
    "                        ],\n",
    "                        max_tokens = 100,\n",
    "                        temperature = 0,\n",
    "                        top_p = 0.95,\n",
    "                        seed=101\n",
    "                    )\n",
    "\n",
    "    return(response.choices[0].message.content)"
   ]
  },
  {
   "cell_type": "code",
   "execution_count": null,
   "metadata": {},
   "outputs": [],
   "source": [
    "for pdf in os.listdir('attachments/Positive Examples/pdfs/'):\n",
    "    file_path = f'attachments/Positive Examples/pdfs/{pdf}'\n",
    "    content = read_pdf_pdfPlumber(file_path)\n",
    "    supplier_name = extract_supplier_name(content)\n",
    "    if \"not found\" in supplier_name:\n",
    "        content = read_pdf_as_image_azureocr(file_path)\n",
    "        supplier_name = extract_supplier_name(content)\n",
    "    print(f\"Supplier Name in {pdf}: {supplier_name}\")\n",
    "read_img_azure_ocr('attachments/Positive Examples/images/sample.png')\n"
   ]
  },
  {
   "cell_type": "code",
   "execution_count": null,
   "metadata": {},
   "outputs": [],
   "source": []
  }
 ],
 "metadata": {
  "kernelspec": {
   "display_name": "Python 3",
   "language": "python",
   "name": "python3"
  },
  "language_info": {
   "codemirror_mode": {
    "name": "ipython",
    "version": 3
   },
   "file_extension": ".py",
   "mimetype": "text/x-python",
   "name": "python",
   "nbconvert_exporter": "python",
   "pygments_lexer": "ipython3",
   "version": "3.11.9"
  }
 },
 "nbformat": 4,
 "nbformat_minor": 2
}
